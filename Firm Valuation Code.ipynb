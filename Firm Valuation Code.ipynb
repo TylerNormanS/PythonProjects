{
 "cells": [
  {
   "cell_type": "code",
   "execution_count": null,
   "id": "de36d54a",
   "metadata": {},
   "outputs": [],
   "source": [
    "import pandas as pd\n",
    "z=pd.read_csv(input('income_statement_annual.csv'))\n",
    "z.columns=['1','2','3','4','5','6','7']\n",
    "EBITDA=(z.at[16,'3']+z.at[16,'4']+z.at[16,'5']+z.at[16,'6']+z.at[16,'7'])/5\n",
    "DA=(z.at[15,'3']+z.at[15,'4']+z.at[15,'5']+z.at[15,'6']+z.at[15,'7'])/5\n",
    "Tc=.21 #Corporate Tax Rate\n",
    "y=pd.read_csv(input('balance_sheet.csv goes here'))\n",
    "y.columns=['8','9','10','11','12','13','14']\n",
    "NWCo=(y.at[8,'10']-y.at[30,'10'])\n",
    "NWCi=(y.at[8,'11']-y.at[30,'11'])\n",
    "NWC=NWCo-NWCi\n",
    "NCapS=(y.at[11,'10']-y.at[11,'11']+DA)\n",
    "CFAdj=EBITDA*(1-Tc)+DA-NWC-NCapS\n",
    "CFAdj\n",
    "L=(y.at[41,'10']+y.at[41,'11']+y.at[41,'12']+y.at[41,'13']+y.at[41,'14'])/5\n",
    "E=(y.at[48,'10']+y.at[48,'11']+y.at[48,'12']+y.at[48,'13']+y.at[48,'14'])/5\n",
    "A=(y.at[22,'10']+y.at[22,'11']+y.at[22,'12']+y.at[22,'13']+y.at[22,'14'])/5\n",
    "We=E/A\n",
    "Wd=L/A\n",
    "url=\"https://home.treasury.gov/resource-center/data-chart-center/interest-rates/TextView?type=daily_treasury_yield_curve&field_tdr_date_value_month=202312\"\n",
    "x=pd.read_html(url)\n",
    "Treas=x[0]\n",
    "Treas.columns=['15','16','17','18','19','20','21','22','23','24','25','26','27','28','29','30','31','32','33','34','35','36','37']\n",
    "Rf=(Treas.at[11,'31']+Treas.at[11,'32']+Treas.at[11,'33']+Treas.at[11,'34']+Treas.at[11,'35']+Treas.at[11,'36']+Treas.at[11,'37'])/7\n",
    "Re=(.0594*float(input(\"Enter Beta\")))+(Rf/100)\n",
    "Rd=Rf/100 #Used Risk-Free Rate as the Cost of Debt here\n",
    "WACC=(We*Re)+((Wd*Rd)*(1-Tc))\n",
    "WACC\n",
    "V0=CFAdj/(WACC-float(input(\"Enter Desired Growth Rate\")))\n",
    "print(\"Firm Valuation:$\",V0)"
   ]
  },
  {
   "cell_type": "code",
   "execution_count": null,
   "id": "f4c5fd9a",
   "metadata": {},
   "outputs": [],
   "source": []
  },
  {
   "cell_type": "code",
   "execution_count": null,
   "id": "9f8b6c2f",
   "metadata": {},
   "outputs": [],
   "source": []
  },
  {
   "cell_type": "code",
   "execution_count": null,
   "id": "5947546e",
   "metadata": {},
   "outputs": [],
   "source": []
  }
 ],
 "metadata": {
  "kernelspec": {
   "display_name": "Python 3 (ipykernel)",
   "language": "python",
   "name": "python3"
  },
  "language_info": {
   "codemirror_mode": {
    "name": "ipython",
    "version": 3
   },
   "file_extension": ".py",
   "mimetype": "text/x-python",
   "name": "python",
   "nbconvert_exporter": "python",
   "pygments_lexer": "ipython3",
   "version": "3.11.5"
  }
 },
 "nbformat": 4,
 "nbformat_minor": 5
}
